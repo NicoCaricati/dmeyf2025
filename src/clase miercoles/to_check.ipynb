{
 "cells": [
  {
   "cell_type": "code",
   "execution_count": 6,
   "id": "9fb3e0b0",
   "metadata": {},
   "outputs": [
    {
     "data": {
      "application/vnd.microsoft.datawrangler.viewer.v0+json": {
       "columns": [
        {
         "name": "index",
         "rawType": "int64",
         "type": "integer"
        },
        {
         "name": "feature",
         "rawType": "object",
         "type": "string"
        },
        {
         "name": "importance",
         "rawType": "float64",
         "type": "float"
        }
       ],
       "ref": "9f0af9f8-c465-47a4-9c8e-96efe9ee2e9c",
       "rows": [
        [
         "0",
         "ctrx_quarter",
         "43781.89212214947"
        ],
        [
         "1",
         "slope_ctrx_quarter_window",
         "12964.548903942108"
        ],
        [
         "2",
         "mpayroll",
         "9453.522336363792"
        ],
        [
         "3",
         "cpayroll_trx",
         "8568.607169866562"
        ],
        [
         "4",
         "mprestamos_personales",
         "8044.393623828888"
        ]
       ],
       "shape": {
        "columns": 2,
        "rows": 5
       }
      },
      "text/html": [
       "<div>\n",
       "<style scoped>\n",
       "    .dataframe tbody tr th:only-of-type {\n",
       "        vertical-align: middle;\n",
       "    }\n",
       "\n",
       "    .dataframe tbody tr th {\n",
       "        vertical-align: top;\n",
       "    }\n",
       "\n",
       "    .dataframe thead th {\n",
       "        text-align: right;\n",
       "    }\n",
       "</style>\n",
       "<table border=\"1\" class=\"dataframe\">\n",
       "  <thead>\n",
       "    <tr style=\"text-align: right;\">\n",
       "      <th></th>\n",
       "      <th>feature</th>\n",
       "      <th>importance</th>\n",
       "    </tr>\n",
       "  </thead>\n",
       "  <tbody>\n",
       "    <tr>\n",
       "      <th>0</th>\n",
       "      <td>ctrx_quarter</td>\n",
       "      <td>43781.892122</td>\n",
       "    </tr>\n",
       "    <tr>\n",
       "      <th>1</th>\n",
       "      <td>slope_ctrx_quarter_window</td>\n",
       "      <td>12964.548904</td>\n",
       "    </tr>\n",
       "    <tr>\n",
       "      <th>2</th>\n",
       "      <td>mpayroll</td>\n",
       "      <td>9453.522336</td>\n",
       "    </tr>\n",
       "    <tr>\n",
       "      <th>3</th>\n",
       "      <td>cpayroll_trx</td>\n",
       "      <td>8568.607170</td>\n",
       "    </tr>\n",
       "    <tr>\n",
       "      <th>4</th>\n",
       "      <td>mprestamos_personales</td>\n",
       "      <td>8044.393624</td>\n",
       "    </tr>\n",
       "  </tbody>\n",
       "</table>\n",
       "</div>"
      ],
      "text/plain": [
       "                     feature    importance\n",
       "0               ctrx_quarter  43781.892122\n",
       "1  slope_ctrx_quarter_window  12964.548904\n",
       "2                   mpayroll   9453.522336\n",
       "3               cpayroll_trx   8568.607170\n",
       "4      mprestamos_personales   8044.393624"
      ]
     },
     "execution_count": 6,
     "metadata": {},
     "output_type": "execute_result"
    }
   ],
   "source": [
    "import pandas as pd\n",
    "\n",
    "df = pd.read_csv(\"data/feature_importance.csv\")\n",
    "\n",
    "df.head()"
   ]
  },
  {
   "cell_type": "code",
   "execution_count": 19,
   "id": "4f4cba57",
   "metadata": {},
   "outputs": [],
   "source": [
    "# df sin columnas que tienen en el nombre la palabra \"canario\"\n",
    "feature_importance_sin_canarios = df[~df[\"feature\"].str.contains(\"canario\")]\n",
    "\n",
    "feature_importance_sin_canarios.to_csv(\"feature_importance_sin_canarios.csv\")"
   ]
  },
  {
   "cell_type": "code",
   "execution_count": 15,
   "id": "e614e824",
   "metadata": {},
   "outputs": [
    {
     "data": {
      "text/plain": [
       "['ctrx_quarter',\n",
       " 'slope_ctrx_quarter_window',\n",
       " 'mpayroll',\n",
       " 'cpayroll_trx',\n",
       " 'mprestamos_personales',\n",
       " 'mcuentas_saldo',\n",
       " 'mpasivos_margen',\n",
       " 'mcaja_ahorro',\n",
       " 'ctrx_quarter_lag_1_1',\n",
       " 'ctrx_quarter_lag_1',\n",
       " 'slope_mprestamos_personales_window',\n",
       " 'slope_mcuentas_saldo_window',\n",
       " 'slope_mpayroll_window',\n",
       " 'slope_cpayroll_trx_window',\n",
       " 'mtarjeta_visa_consumo',\n",
       " 'mrentabilidad_annual',\n",
       " 'Visa_msaldopesos',\n",
       " 'ctarjeta_visa_transacciones',\n",
       " 'cliente_edad',\n",
       " 'mactivos_margen',\n",
       " 'canario_27',\n",
       " 'ctarjeta_master',\n",
       " 'canario_50',\n",
       " 'canario_19',\n",
       " 'canario_36',\n",
       " 'canario_22',\n",
       " 'Master_fechaalta']"
      ]
     },
     "execution_count": 15,
     "metadata": {},
     "output_type": "execute_result"
    }
   ],
   "source": [
    "# Columnas para ratios: Aquellas con feature importance mayor a 2000\n",
    "\n",
    "columnas_ratios = df.loc[df[\"importance\"] > 2000, \"feature\"].tolist()\n",
    "\n",
    "columnas_ratios"
   ]
  },
  {
   "cell_type": "code",
   "execution_count": 18,
   "id": "747de45f",
   "metadata": {},
   "outputs": [
    {
     "ename": "NameError",
     "evalue": "name 'study' is not defined",
     "output_type": "error",
     "traceback": [
      "\u001b[31m---------------------------------------------------------------------------\u001b[39m",
      "\u001b[31mNameError\u001b[39m                                 Traceback (most recent call last)",
      "\u001b[36mCell\u001b[39m\u001b[36m \u001b[39m\u001b[32mIn[18]\u001b[39m\u001b[32m, line 8\u001b[39m\n\u001b[32m      1\u001b[39m \u001b[38;5;66;03m# 2025-09-28 08:03:58,933 - INFO - __main__ 152 -   Trial 26: 115,580,000\u001b[39;00m\n\u001b[32m      2\u001b[39m \u001b[38;5;66;03m# 2025-09-28 08:03:58,934 - INFO - __main__ 152 -   Trial 59: 115,460,000\u001b[39;00m\n\u001b[32m      3\u001b[39m \u001b[38;5;66;03m# 2025-09-28 08:03:58,934 - INFO - __main__ 152 -   Trial 97: 115,360,000\u001b[39;00m\n\u001b[32m      4\u001b[39m \u001b[38;5;66;03m# 2025-09-28 08:03:58,934 - INFO - __main__ 152 -   Trial 71: 115,340,000\u001b[39;00m\n\u001b[32m      5\u001b[39m \u001b[38;5;66;03m# 2025-09-28 08:03:58,935 - INFO - __main__ 152 -   Trial 14: 115,320,000\u001b[39;00m\n\u001b[32m      7\u001b[39m \u001b[38;5;28;01mfor\u001b[39;00m i \u001b[38;5;129;01min\u001b[39;00m (\u001b[32m26\u001b[39m, \u001b[32m59\u001b[39m, \u001b[32m97\u001b[39m, \u001b[32m71\u001b[39m, \u001b[32m14\u001b[39m):\n\u001b[32m----> \u001b[39m\u001b[32m8\u001b[39m     \u001b[38;5;28mprint\u001b[39m(\u001b[33mf\u001b[39m\u001b[33m\"\u001b[39m\u001b[33mTrial \u001b[39m\u001b[38;5;132;01m{\u001b[39;00mi\u001b[38;5;132;01m}\u001b[39;00m\u001b[33m: \u001b[39m\u001b[38;5;132;01m{\u001b[39;00m\u001b[43mstudy\u001b[49m.trials[i].value\u001b[38;5;132;01m:\u001b[39;00m\u001b[33m,.0f\u001b[39m\u001b[38;5;132;01m}\u001b[39;00m\u001b[33m\"\u001b[39m)\n\u001b[32m      9\u001b[39m     \u001b[38;5;28mprint\u001b[39m(study.trials[i].params)\n",
      "\u001b[31mNameError\u001b[39m: name 'study' is not defined"
     ]
    }
   ],
   "source": [
    "# 2025-09-28 08:03:58,933 - INFO - __main__ 152 -   Trial 26: 115,580,000\n",
    "# 2025-09-28 08:03:58,934 - INFO - __main__ 152 -   Trial 59: 115,460,000\n",
    "# 2025-09-28 08:03:58,934 - INFO - __main__ 152 -   Trial 97: 115,360,000\n",
    "# 2025-09-28 08:03:58,934 - INFO - __main__ 152 -   Trial 71: 115,340,000\n",
    "# 2025-09-28 08:03:58,935 - INFO - __main__ 152 -   Trial 14: 115,320,000\n",
    "\n",
    "for i in (26, 59, 97, 71, 14):\n",
    "    print(f\"Trial {i}: {study.trials[i].value:,.0f}\")\n",
    "    print(study.trials[i].params)\n",
    "    \n"
   ]
  }
 ],
 "metadata": {
  "kernelspec": {
   "display_name": "Python 3",
   "language": "python",
   "name": "python3"
  },
  "language_info": {
   "codemirror_mode": {
    "name": "ipython",
    "version": 3
   },
   "file_extension": ".py",
   "mimetype": "text/x-python",
   "name": "python",
   "nbconvert_exporter": "python",
   "pygments_lexer": "ipython3",
   "version": "3.11.9"
  }
 },
 "nbformat": 4,
 "nbformat_minor": 5
}
