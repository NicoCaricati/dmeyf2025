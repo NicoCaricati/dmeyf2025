{
 "cells": [
  {
   "cell_type": "markdown",
   "id": "f2ba5150",
   "metadata": {},
   "source": [
    "\n",
    "# Exploración de la tabla `competencia_02`\n",
    "\n",
    "Este notebook analiza la evolución de los indicadores mes a mes y sus diferencias según el tipo de individuo (`target`).  \n",
    "La tabla fue creada a partir de `competencia_01_crudo` + `competencia_01`.\n"
   ]
  },
  {
   "cell_type": "code",
   "execution_count": null,
   "id": "84e605ad",
   "metadata": {},
   "outputs": [],
   "source": [
    "\n",
    "import duckdb\n",
    "import pandas as pd\n",
    "import matplotlib.pyplot as plt\n",
    "\n",
    "# Conexión\n",
    "con = duckdb.connect(database=':memory:')\n",
    "\n",
    "# Si ya está creada en disco, ajustar el path a tu .duckdb\n",
    "# con = duckdb.connect('mi_base.duckdb')\n"
   ]
  },
  {
   "cell_type": "code",
   "execution_count": null,
   "id": "f60fd9f5",
   "metadata": {},
   "outputs": [],
   "source": [
    "\n",
    "# Cargar la tabla competencia_02 en un DataFrame\n",
    "df = con.execute(\"SELECT * FROM competencia_02\").fetchdf()\n",
    "\n",
    "df.head()\n"
   ]
  },
  {
   "cell_type": "code",
   "execution_count": null,
   "id": "b1c9f951",
   "metadata": {},
   "outputs": [],
   "source": [
    "\n",
    "# Info general de la tabla\n",
    "df.info()\n"
   ]
  },
  {
   "cell_type": "code",
   "execution_count": null,
   "id": "7da5296d",
   "metadata": {},
   "outputs": [],
   "source": [
    "\n",
    "# Estadísticas descriptivas básicas\n",
    "df.describe(include='all')\n"
   ]
  },
  {
   "cell_type": "markdown",
   "id": "f4dc2f27",
   "metadata": {},
   "source": [
    "## Evolución mes a mes de algunos indicadores"
   ]
  },
  {
   "cell_type": "code",
   "execution_count": null,
   "id": "c1960042",
   "metadata": {},
   "outputs": [],
   "source": [
    "\n",
    "indicadores = ['ctrx_quarter', 'cproductos', 'mcuentas_saldo', 'mpayroll']\n",
    "\n",
    "for col in indicadores:\n",
    "    df.groupby('foto_mes')[col].mean().plot(marker='o', figsize=(8,4), title=f\"Evolución de {col} por mes\")\n",
    "    plt.xlabel(\"Mes\")\n",
    "    plt.ylabel(col)\n",
    "    plt.show()\n"
   ]
  },
  {
   "cell_type": "markdown",
   "id": "d9bac9a2",
   "metadata": {},
   "source": [
    "## Comparación de indicadores según target"
   ]
  },
  {
   "cell_type": "code",
   "execution_count": null,
   "id": "6fb7440f",
   "metadata": {},
   "outputs": [],
   "source": [
    "\n",
    "import seaborn as sns\n",
    "\n",
    "# Distribuciones comparadas\n",
    "for col in indicadores:\n",
    "    plt.figure(figsize=(8,4))\n",
    "    sns.boxplot(x='target', y=col, data=df)\n",
    "    plt.title(f\"{col} según target\")\n",
    "    plt.show()\n"
   ]
  },
  {
   "cell_type": "code",
   "execution_count": null,
   "id": "8be87e38",
   "metadata": {},
   "outputs": [],
   "source": [
    "\n",
    "# Promedios por target y mes\n",
    "tabla_resumen = df.groupby(['foto_mes', 'target'])[indicadores].mean().reset_index()\n",
    "tabla_resumen.head(10)\n"
   ]
  },
  {
   "cell_type": "code",
   "execution_count": null,
   "id": "c3620a1e",
   "metadata": {},
   "outputs": [],
   "source": [
    "\n",
    "# Evolución por target en gráfico\n",
    "for col in indicadores:\n",
    "    plt.figure(figsize=(8,4))\n",
    "    sns.lineplot(x='foto_mes', y=col, hue='target', data=tabla_resumen, marker='o')\n",
    "    plt.title(f\"Evolución de {col} por target\")\n",
    "    plt.show()\n"
   ]
  }
 ],
 "metadata": {},
 "nbformat": 4,
 "nbformat_minor": 5
}
