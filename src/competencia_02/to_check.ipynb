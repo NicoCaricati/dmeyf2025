{
 "cells": [
  {
   "cell_type": "code",
   "execution_count": 2,
   "id": "863b6d95",
   "metadata": {},
   "outputs": [
    {
     "name": "stdout",
     "output_type": "stream",
     "text": [
      "Número del mejor trial: 4\n",
      "Valor objetivo: 2147474611.2\n",
      "Parámetros:\n",
      "  num_leaves: 23\n",
      "  min_data_in_leaf: 223\n",
      "  feature_fraction: 0.6616669584635271\n",
      "  bagging_fraction: 0.23994377622330532\n",
      "  num_boost_round: 439\n",
      "  lr_init: 0.14053552566659705\n",
      "  lr_decay: 0.9124750514032693\n",
      "\n",
      "Diccionario con los mejores hiperparámetros:\n",
      "{'num_leaves': 23, 'min_data_in_leaf': 223, 'feature_fraction': 0.6616669584635271, 'bagging_fraction': 0.23994377622330532, 'num_boost_round': 439, 'lr_init': 0.14053552566659705, 'lr_decay': 0.9124750514032693}\n"
     ]
    }
   ],
   "source": [
    "import optuna\n",
    "import os\n",
    "\n",
    "# Ruta a tu base de datos Optuna (ajustá si es necesario)\n",
    "db_path = \"../../../buckets/b1/Compe_02/optuna_db/TEST 1 - Modelo Final  - Pruebo Learning Rate con funcionamiento variable.db\"\n",
    "\n",
    "# Verificar que el archivo exista\n",
    "if not os.path.exists(db_path):\n",
    "    raise FileNotFoundError(f\"No se encontró el archivo: {db_path}\")\n",
    "\n",
    "# Crear el storage URL (formato SQLite)\n",
    "storage_url = f\"sqlite:///{db_path}\"\n",
    "\n",
    "# Cargar el estudio\n",
    "study_name = \"TEST 1 - Modelo Final  - Pruebo Learning Rate con funcionamiento variable\"  # debe coincidir exactamente\n",
    "study = optuna.load_study(study_name=study_name, storage=storage_url)\n",
    "\n",
    "# Obtener el mejor trial\n",
    "best_trial = study.best_trial\n",
    "\n",
    "# Mostrar resultados\n",
    "print(\"Número del mejor trial:\", best_trial.number)\n",
    "print(\"Valor objetivo:\", best_trial.value)\n",
    "print(\"Parámetros:\")\n",
    "for k, v in best_trial.params.items():\n",
    "    print(f\"  {k}: {v}\")\n",
    "\n",
    "# Si querés guardarlo como diccionario\n",
    "mejores_params = dict(best_trial.params)\n",
    "print(\"\\nDiccionario con los mejores hiperparámetros:\")\n",
    "print(mejores_params)\n"
   ]
  },
  {
   "cell_type": "code",
   "execution_count": 1,
   "id": "b03f4662-a9b8-4781-84d0-adb4b7c71e4a",
   "metadata": {},
   "outputs": [
    {
     "name": "stdout",
     "output_type": "stream",
     "text": [
      "🔹 Dimensiones del dataset: (4717958, 154)\n",
      "\n",
      "🔹 Tipos de datos:\n",
      "float64    91\n",
      "int64      63\n",
      "Name: count, dtype: int64\n",
      "\n",
      "🔹 Primeras filas:\n",
      "   numero_de_cliente  foto_mes  active_quarter  cliente_vip  internet  \\\n",
      "0          249221323    201901               1            0         1   \n",
      "1          249227600    201901               1            0         1   \n",
      "2          249227813    201901               1            0         0   \n",
      "3          249231391    201901               1            0         1   \n",
      "4          249244739    201901               1            0         1   \n",
      "\n",
      "   cliente_edad  cliente_antiguedad  mrentabilidad  mrentabilidad_annual  \\\n",
      "0            44                  69          86.33              14610.01   \n",
      "1            40                 254        2096.06              15905.41   \n",
      "2            77                 156        1071.07              10295.09   \n",
      "3            55                 252         979.98               7670.48   \n",
      "4            64                 296        2724.67              36225.32   \n",
      "\n",
      "   mcomisiones  ...  Visa_madelantodolares  Visa_fultimo_cierre  Visa_mpagado  \\\n",
      "0       625.85  ...                    0.0                  8.0           0.0   \n",
      "1       287.71  ...                    0.0                  8.0           0.0   \n",
      "2       864.40  ...                    0.0                  1.0           0.0   \n",
      "3       487.01  ...                    0.0                  1.0           0.0   \n",
      "4      1865.89  ...                    0.0                  1.0           0.0   \n",
      "\n",
      "   Visa_mpagospesos  Visa_mpagosdolares  Visa_fechaalta  Visa_mconsumototal  \\\n",
      "0         -17595.00                 0.0          2083.0             4880.93   \n",
      "1          -5828.06                 0.0          4810.0             6750.79   \n",
      "2          -6092.94                 0.0          4739.0                0.14   \n",
      "3         -24945.96                 0.0          4344.0            12604.18   \n",
      "4          -9551.63                 0.0          1227.0             2043.36   \n",
      "\n",
      "   Visa_cconsumos  Visa_cadelantosefectivo  Visa_mpagominimo  \n",
      "0             5.0                      0.0          12222.66  \n",
      "1            11.0                      0.0            563.04  \n",
      "2             2.0                      0.0            152.49  \n",
      "3            13.0                      0.0           1712.58  \n",
      "4             3.0                      0.0            469.20  \n",
      "\n",
      "[5 rows x 154 columns]\n",
      "\n",
      "📊 Descriptivas numéricas:\n",
      "                             count          mean           std           min  \\\n",
      "numero_de_cliente        4717958.0  7.423279e+08  3.084476e+08  2.492213e+08   \n",
      "foto_mes                 4717958.0  2.020005e+05  7.715462e+01  2.019010e+05   \n",
      "active_quarter           4717958.0  9.538491e-01  2.098118e-01  0.000000e+00   \n",
      "cliente_vip              4717958.0  4.196731e-03  6.464611e-02  0.000000e+00   \n",
      "internet                 4717958.0  5.525600e-01  5.062486e-01  0.000000e+00   \n",
      "...                            ...           ...           ...           ...   \n",
      "Visa_fechaalta           4521205.0  3.161119e+03  2.164566e+03  1.000000e+00   \n",
      "Visa_mconsumototal       4080498.0  1.845463e+04  3.495434e+04 -5.546581e+05   \n",
      "Visa_cconsumos           4080498.0  8.781186e+00  1.038407e+01  0.000000e+00   \n",
      "Visa_cadelantosefectivo  4080498.0  1.744297e-02  3.099465e-01  0.000000e+00   \n",
      "Visa_mpagominimo         4521205.0  4.651595e+03  1.876998e+04  0.000000e+00   \n",
      "\n",
      "                                  25%           50%           75%  \\\n",
      "numero_de_cliente        5.061550e+08  7.037644e+08  9.611379e+08   \n",
      "foto_mes                 2.019100e+05  2.020060e+05  2.021010e+05   \n",
      "active_quarter           1.000000e+00  1.000000e+00  1.000000e+00   \n",
      "cliente_vip              0.000000e+00  0.000000e+00  0.000000e+00   \n",
      "internet                 0.000000e+00  1.000000e+00  1.000000e+00   \n",
      "...                               ...           ...           ...   \n",
      "Visa_fechaalta           1.373000e+03  2.918000e+03  4.643000e+03   \n",
      "Visa_mconsumototal       1.900273e+03  7.976565e+03  2.166482e+04   \n",
      "Visa_cconsumos           2.000000e+00  6.000000e+00  1.100000e+01   \n",
      "Visa_cadelantosefectivo  0.000000e+00  0.000000e+00  0.000000e+00   \n",
      "Visa_mpagominimo         2.932500e+02  1.395870e+03  3.859170e+03   \n",
      "\n",
      "                                  max  \n",
      "numero_de_cliente        1.603899e+09  \n",
      "foto_mes                 2.021080e+05  \n",
      "active_quarter           1.000000e+00  \n",
      "cliente_vip              1.000000e+00  \n",
      "internet                 4.000000e+00  \n",
      "...                               ...  \n",
      "Visa_fechaalta           1.276100e+04  \n",
      "Visa_mconsumototal       3.795609e+06  \n",
      "Visa_cconsumos           1.166000e+03  \n",
      "Visa_cadelantosefectivo  8.000000e+01  \n",
      "Visa_mpagominimo         6.148338e+06  \n",
      "\n",
      "[154 rows x 8 columns]\n",
      "\n",
      "🔠 Descriptivas categóricas:\n",
      "No hay columnas categóricas.\n",
      "\n",
      "🚫 Porcentaje de valores nulos por columna:\n",
      "Master_Finiciomora      99.548661\n",
      "Visa_Finiciomora        98.584727\n",
      "Master_mpagospesos      59.956659\n",
      "Master_mconsumototal    59.956659\n",
      "Master_cconsumos        59.956659\n",
      "                          ...    \n",
      "ccajas_extracciones      0.000000\n",
      "ccajas_otras             0.000000\n",
      "catm_trx                 0.000000\n",
      "matm                     0.000000\n",
      "catm_trx_other           0.000000\n",
      "Length: 154, dtype: float64\n"
     ]
    }
   ],
   "source": [
    "import pandas as pd\n",
    "\n",
    "# Ruta al archivo\n",
    "path = \"../../../buckets/b1/datasets/competencia_02_crudo.csv.gz\"\n",
    "\n",
    "# Cargar dataset (pandas detecta el gzip automáticamente)\n",
    "df = pd.read_csv(path)\n",
    "\n",
    "# --- Información general ---\n",
    "print(\"🔹 Dimensiones del dataset:\", df.shape)\n",
    "print(\"\\n🔹 Tipos de datos:\")\n",
    "print(df.dtypes.value_counts())\n",
    "print(\"\\n🔹 Primeras filas:\")\n",
    "print(df.head())\n",
    "\n",
    "# --- Descriptivas numéricas ---\n",
    "print(\"\\n📊 Descriptivas numéricas:\")\n",
    "print(df.describe().T)\n",
    "\n",
    "# --- Descriptivas categóricas ---\n",
    "print(\"\\n🔠 Descriptivas categóricas:\")\n",
    "cat_cols = df.select_dtypes(include=['object', 'category']).columns\n",
    "if len(cat_cols) > 0:\n",
    "    print(df[cat_cols].describe().T)\n",
    "else:\n",
    "    print(\"No hay columnas categóricas.\")\n",
    "\n",
    "# --- Valores nulos ---\n",
    "print(\"\\n🚫 Porcentaje de valores nulos por columna:\")\n",
    "print((df.isnull().mean() * 100).sort_values(ascending=False))"
   ]
  },
  {
   "cell_type": "code",
   "execution_count": 8,
   "id": "1fb07f24-0b03-421d-9fdf-1d386ee9a942",
   "metadata": {},
   "outputs": [
    {
     "data": {
      "text/plain": [
       "foto_mes\n",
       "202108    164822\n",
       "202107    164596\n",
       "202106    164313\n",
       "202105    163917\n",
       "202104    163418\n",
       "202103    163109\n",
       "202102    162155\n",
       "202101    161527\n",
       "202012    160997\n",
       "202011    160250\n",
       "202010    159169\n",
       "202009    157805\n",
       "202008    156461\n",
       "202007    154984\n",
       "202006    153102\n",
       "202005    150792\n",
       "202004    149350\n",
       "202003    148798\n",
       "202002    146660\n",
       "202001    143464\n",
       "201912    139980\n",
       "201911    137996\n",
       "201910    136010\n",
       "201909    133757\n",
       "201908    132143\n",
       "201907    130268\n",
       "201906    128734\n",
       "201905    127202\n",
       "201904    126538\n",
       "201903    125967\n",
       "201902    125401\n",
       "201901    124273\n",
       "Name: count, dtype: int64"
      ]
     },
     "execution_count": 8,
     "metadata": {},
     "output_type": "execute_result"
    }
   ],
   "source": [
    "\n",
    "df[\"foto_mes\"].value_counts()\n"
   ]
  },
  {
   "cell_type": "code",
   "execution_count": 5,
   "id": "c48ccfac-15de-49b5-9a4f-53041ac778a1",
   "metadata": {},
   "outputs": [
    {
     "name": "stdout",
     "output_type": "stream",
     "text": [
      "clase_ternaria\n",
      "CONTINUA    4349938\n",
      "             328281\n",
      "BAJA+1        20234\n",
      "BAJA+2        19505\n",
      "Name: count, dtype: int64\n"
     ]
    }
   ],
   "source": [
    "import pandas as pd\n",
    "import numpy as np\n",
    "\n",
    "# Crear df_target a partir de df\n",
    "df_target = df[['numero_de_cliente','foto_mes']].copy()\n",
    "df_target = df_target.sort_values(by=['numero_de_cliente','foto_mes'])\n",
    "\n",
    "# Crear columnas que indican si el cliente sigue en los meses siguientes\n",
    "df_target['enmes1'] = df_target.groupby('numero_de_cliente')['numero_de_cliente'].shift(-1)\n",
    "df_target['enmes2'] = df_target.groupby('numero_de_cliente')['numero_de_cliente'].shift(-2)\n",
    "\n",
    "# Calcular cuántos meses hay por delante (suponiendo que el último mes es 202108)\n",
    "df_target['mesespordelante'] = 202108 - df_target['foto_mes']\n",
    "\n",
    "# Clasificación ternaria\n",
    "df_target['clase_ternaria'] = np.where(\n",
    "    df_target['mesespordelante'] >= 2,\n",
    "    np.where(\n",
    "        (df_target['numero_de_cliente'] == df_target['enmes1']) &\n",
    "        (df_target['numero_de_cliente'] == df_target['enmes2']),\n",
    "        'CONTINUA',\n",
    "        np.where(\n",
    "            (df_target['numero_de_cliente'] == df_target['enmes1']) & (df_target['enmes2'].isna()),\n",
    "            'BAJA+2',\n",
    "            'BAJA+1'\n",
    "        )\n",
    "    ),\n",
    "    np.where(\n",
    "        (df_target['mesespordelante'] == 1) & (df_target['enmes1'].isna()),\n",
    "        'BAJA+1',\n",
    "        ''\n",
    "    )\n",
    ")\n",
    "\n",
    "# Agregar la columna 'clase_ternaria' a df original\n",
    "df = df.merge(\n",
    "    df_target[['numero_de_cliente', 'foto_mes', 'clase_ternaria']],\n",
    "    on=['numero_de_cliente', 'foto_mes'],\n",
    "    how='left'\n",
    ")\n",
    "\n",
    "# Confirmar\n",
    "print(df['clase_ternaria'].value_counts(dropna=False))\n"
   ]
  },
  {
   "cell_type": "code",
   "execution_count": 6,
   "id": "311bd443-0d83-4f64-941e-adc678af243e",
   "metadata": {},
   "outputs": [
    {
     "data": {
      "image/png": "[encoded data removed]",
      "text/plain": [
       "<Figure size 1200x600 with 1 Axes>"
      ]
     },
     "metadata": {},
     "output_type": "display_data"
    }
   ],
   "source": [
    "import matplotlib.pyplot as plt\n",
    "\n",
    "# Contar la cantidad de registros por mes y clase\n",
    "conteo = df.groupby(['foto_mes', 'clase_ternaria']).size().unstack(fill_value=0)\n",
    "\n",
    "# Ordenar por mes (por si acaso)\n",
    "conteo = conteo.sort_index()\n",
    "\n",
    "# Graficar\n",
    "conteo.plot(kind='bar', stacked=True, figsize=(12,6))\n",
    "\n",
    "plt.title('Distribución de clase ternaria por mes')\n",
    "plt.xlabel('Mes (foto_mes)')\n",
    "plt.ylabel('Cantidad de clientes')\n",
    "plt.legend(title='Clase ternaria')\n",
    "plt.xticks(rotation=45)\n",
    "plt.tight_layout()\n",
    "plt.show()\n"
   ]
  },
  {
   "cell_type": "code",
   "execution_count": 11,
   "id": "d5f0af43-a508-4c88-9474-318d472aed6b",
   "metadata": {},
   "outputs": [
    {
     "data": {
      "image/png": "[encoded data removed]",
      "text/plain": [
       "<Figure size 1000x500 with 1 Axes>"
      ]
     },
     "metadata": {},
     "output_type": "display_data"
    }
   ],
   "source": [
    "import matplotlib.pyplot as plt\n",
    "\n",
    "# Asegurarnos de que foto_mes sea entero\n",
    "df['foto_mes'] = df['foto_mes'].astype(int)\n",
    "\n",
    "# Filtrar solo BAJA+1 y excluir 202107 y 202108\n",
    "baja1 = (\n",
    "    df[\n",
    "        (df['clase_ternaria'] == 'BAJA+1') &\n",
    "        (~df['foto_mes'].isin([202107, 202108]))\n",
    "    ]\n",
    "    .groupby('foto_mes')\n",
    "    .size()\n",
    "    .sort_index()\n",
    ")\n",
    "\n",
    "# Graficar\n",
    "plt.figure(figsize=(10,5))\n",
    "plt.plot(baja1.index, baja1.values, marker='o', linewidth=2)\n",
    "plt.title('Evolución de BAJA+1 por mes (excluyendo 202107 y 202108)')\n",
    "plt.xlabel('Mes (foto_mes)')\n",
    "plt.ylabel('Cantidad de clientes BAJA+1')\n",
    "plt.grid(True, linestyle='--', alpha=0.6)\n",
    "plt.tight_layout()\n",
    "plt.show()\n"
   ]
  },
  {
   "cell_type": "code",
   "execution_count": 12,
   "id": "a3586bd9-005a-4d7f-8577-b6b8b55a5a72",
   "metadata": {},
   "outputs": [
    {
     "data": {
      "application/vnd.plotly.v1+json": {
       "config": {
        "plotlyServerURL": "https://plot.ly"
       },
       "data": [
        {
         "hovertemplate": "Mes=%{x}<br>Cantidad de BAJA+1=%{y}<extra></extra>",
         "legendgroup": "",
         "line": {
          "color": "#636efa",
          "dash": "solid"
         },
         "marker": {
          "symbol": "circle"
         },
         "mode": "lines+markers",
         "name": "",
         "orientation": "v",
         "showlegend": false,
         "type": "scatter",
         "x": {
          "bdata": "rRQDAK4UAwCvFAMAsBQDALEUAwCyFAMAsxQDALQUAwC1FAMAthQDALcUAwC4FAMAERUDABIVAwATFQMAFBUDABUVAwAWFQMAFxUDABgVAwAZFQMAGhUDABsVAwAcFQMAdRUDAHYVAwB3FQMAeBUDAHkVAwB6FQMA",
          "dtype": "i4"
         },
         "xaxis": "x",
         "y": {
          "bdata": "ewLTArYC5wL5Aa0CVwKfAjoCRQJiAp4CZAIhAqYAigEQAmkCQwLbAfABGALDAWoCZwI9AwMEuANpBEoD",
          "dtype": "i2"
         },
         "yaxis": "y"
        }
       ],
       "layout": {
        "legend": {
         "tracegroupgap": 0
        },
        "template": {
         "data": {
          "bar": [
           {
            "error_x": {
             "color": "#2a3f5f"
            },
            "error_y": {
             "color": "#2a3f5f"
            },
            "marker": {
             "line": {
              "color": "#E5ECF6",
              "width": 0.5
             },
             "pattern": {
              "fillmode": "overlay",
              "size": 10,
              "solidity": 0.2
             }
            },
            "type": "bar"
           }
          ],
          "barpolar": [
           {
            "marker": {
             "line": {
              "color": "#E5ECF6",
              "width": 0.5
             },
             "pattern": {
              "fillmode": "overlay",
              "size": 10,
              "solidity": 0.2
             }
            },
            "type": "barpolar"
           }
          ],
          "carpet": [
           {
            "aaxis": {
             "endlinecolor": "#2a3f5f",
             "gridcolor": "white",
             "linecolor": "white",
             "minorgridcolor": "white",
             "startlinecolor": "#2a3f5f"
            },
            "baxis": {
             "endlinecolor": "#2a3f5f",
             "gridcolor": "white",
             "linecolor": "white",
             "minorgridcolor": "white",
             "startlinecolor": "#2a3f5f"
            },
            "type": "carpet"
           }
          ],
          "choropleth": [
           {
            "colorbar": {
             "outlinewidth": 0,
             "ticks": ""
            },
            "type": "choropleth"
           }
          ],
          "contour": [
           {
            "colorbar": {
             "outlinewidth": 0,
             "ticks": ""
            },
            "colorscale": [
             [
              0,
              "#0d0887"
             ],
             [
              0.1111111111111111,
              "#46039f"
             ],
             [
              0.2222222222222222,
              "#7201a8"
             ],
             [
              0.3333333333333333,
              "#9c179e"
             ],
             [
              0.4444444444444444,
              "#bd3786"
             ],
             [
              0.5555555555555556,
              "#d8576b"
             ],
             [
              0.6666666666666666,
              "#ed7953"
             ],
             [
              0.7777777777777778,
              "#fb9f3a"
             ],
             [
              0.8888888888888888,
              "#fdca26"
             ],
             [
              1,
              "#f0f921"
             ]
            ],
            "type": "contour"
           }
          ],
          "contourcarpet": [
           {
            "colorbar": {
             "outlinewidth": 0,
             "ticks": ""
            },
            "type": "contourcarpet"
           }
          ],
          "heatmap": [
           {
            "colorbar": {
             "outlinewidth": 0,
             "ticks": ""
            },
            "colorscale": [
             [
              0,
              "#0d0887"
             ],
             [
              0.1111111111111111,
              "#46039f"
             ],
             [
              0.2222222222222222,
              "#7201a8"
             ],
             [
              0.3333333333333333,
              "#9c179e"
             ],
             [
              0.4444444444444444,
              "#bd3786"
             ],
             [
              0.5555555555555556,
              "#d8576b"
             ],
             [
              0.6666666666666666,
              "#ed7953"
             ],
             [
              0.7777777777777778,
              "#fb9f3a"
             ],
             [
              0.8888888888888888,
              "#fdca26"
             ],
             [
              1,
              "#f0f921"
             ]
            ],
            "type": "heatmap"
           }
          ],
          "histogram": [
           {
            "marker": {
             "pattern": {
              "fillmode": "overlay",
              "size": 10,
              "solidity": 0.2
             }
            },
            "type": "histogram"
           }
          ],
          "histogram2d": [
           {
            "colorbar": {
             "outlinewidth": 0,
             "ticks": ""
            },
            "colorscale": [
             [
              0,
              "#0d0887"
             ],
             [
              0.1111111111111111,
              "#46039f"
             ],
             [
              0.2222222222222222,
              "#7201a8"
             ],
             [
              0.3333333333333333,
              "#9c179e"
             ],
             [
              0.4444444444444444,
              "#bd3786"
             ],
             [
              0.5555555555555556,
              "#d8576b"
             ],
             [
              0.6666666666666666,
              "#ed7953"
             ],
             [
              0.7777777777777778,
              "#fb9f3a"
             ],
             [
              0.8888888888888888,
              "#fdca26"
             ],
             [
              1,
              "#f0f921"
             ]
            ],
            "type": "histogram2d"
           }
          ],
          "histogram2dcontour": [
           {
            "colorbar": {
             "outlinewidth": 0,
             "ticks": ""
            },
            "colorscale": [
             [
              0,
              "#0d0887"
             ],
             [
              0.1111111111111111,
              "#46039f"
             ],
             [
              0.2222222222222222,
              "#7201a8"
             ],
             [
              0.3333333333333333,
              "#9c179e"
             ],
             [
              0.4444444444444444,
              "#bd3786"
             ],
             [
              0.5555555555555556,
              "#d8576b"
             ],
             [
              0.6666666666666666,
              "#ed7953"
             ],
             [
              0.7777777777777778,
              "#fb9f3a"
             ],
             [
              0.8888888888888888,
              "#fdca26"
             ],
             [
              1,
              "#f0f921"
             ]
            ],
            "type": "histogram2dcontour"
           }
          ],
          "mesh3d": [
           {
            "colorbar": {
             "outlinewidth": 0,
             "ticks": ""
            },
            "type": "mesh3d"
           }
          ],
          "parcoords": [
           {
            "line": {
             "colorbar": {
              "outlinewidth": 0,
              "ticks": ""
             }
            },
            "type": "parcoords"
           }
          ],
          "pie": [
           {
            "automargin": true,
            "type": "pie"
           }
          ],
          "scatter": [
           {
            "fillpattern": {
             "fillmode": "overlay",
             "size": 10,
             "solidity": 0.2
            },
            "type": "scatter"
           }
          ],
          "scatter3d": [
           {
            "line": {
             "colorbar": {
              "outlinewidth": 0,
              "ticks": ""
             }
            },
            "marker": {
             "colorbar": {
              "outlinewidth": 0,
              "ticks": ""
             }
            },
            "type": "scatter3d"
           }
          ],
          "scattercarpet": [
           {
            "marker": {
             "colorbar": {
              "outlinewidth": 0,
              "ticks": ""
             }
            },
            "type": "scattercarpet"
           }
          ],
          "scattergeo": [
           {
            "marker": {
             "colorbar": {
              "outlinewidth": 0,
              "ticks": ""
             }
            },
            "type": "scattergeo"
           }
          ],
          "scattergl": [
           {
            "marker": {
             "colorbar": {
              "outlinewidth": 0,
              "ticks": ""
             }
            },
            "type": "scattergl"
           }
          ],
          "scattermap": [
           {
            "marker": {
             "colorbar": {
              "outlinewidth": 0,
              "ticks": ""
             }
            },
            "type": "scattermap"
           }
          ],
          "scattermapbox": [
           {
            "marker": {
             "colorbar": {
              "outlinewidth": 0,
              "ticks": ""
             }
            },
            "type": "scattermapbox"
           }
          ],
          "scatterpolar": [
           {
            "marker": {
             "colorbar": {
              "outlinewidth": 0,
              "ticks": ""
             }
            },
            "type": "scatterpolar"
           }
          ],
          "scatterpolargl": [
           {
            "marker": {
             "colorbar": {
              "outlinewidth": 0,
              "ticks": ""
             }
            },
            "type": "scatterpolargl"
           }
          ],
          "scatterternary": [
           {
            "marker": {
             "colorbar": {
              "outlinewidth": 0,
              "ticks": ""
             }
            },
            "type": "scatterternary"
           }
          ],
          "surface": [
           {
            "colorbar": {
             "outlinewidth": 0,
             "ticks": ""
            },
            "colorscale": [
             [
              0,
              "#0d0887"
             ],
             [
              0.1111111111111111,
              "#46039f"
             ],
             [
              0.2222222222222222,
              "#7201a8"
             ],
             [
              0.3333333333333333,
              "#9c179e"
             ],
             [
              0.4444444444444444,
              "#bd3786"
             ],
             [
              0.5555555555555556,
              "#d8576b"
             ],
             [
              0.6666666666666666,
              "#ed7953"
             ],
             [
              0.7777777777777778,
              "#fb9f3a"
             ],
             [
              0.8888888888888888,
              "#fdca26"
             ],
             [
              1,
              "#f0f921"
             ]
            ],
            "type": "surface"
           }
          ],
          "table": [
           {
            "cells": {
             "fill": {
              "color": "#EBF0F8"
             },
             "line": {
              "color": "white"
             }
            },
            "header": {
             "fill": {
              "color": "#C8D4E3"
             },
             "line": {
              "color": "white"
             }
            },
            "type": "table"
           }
          ]
         },
         "layout": {
          "annotationdefaults": {
           "arrowcolor": "#2a3f5f",
           "arrowhead": 0,
           "arrowwidth": 1
          },
          "autotypenumbers": "strict",
          "coloraxis": {
           "colorbar": {
            "outlinewidth": 0,
            "ticks": ""
           }
          },
          "colorscale": {
           "diverging": [
            [
             0,
             "#8e0152"
            ],
            [
             0.1,
             "#c51b7d"
            ],
            [
             0.2,
             "#de77ae"
            ],
            [
             0.3,
             "#f1b6da"
            ],
            [
             0.4,
             "#fde0ef"
            ],
            [
             0.5,
             "#f7f7f7"
            ],
            [
             0.6,
             "#e6f5d0"
            ],
            [
             0.7,
             "#b8e186"
            ],
            [
             0.8,
             "#7fbc41"
            ],
            [
             0.9,
             "#4d9221"
            ],
            [
             1,
             "#276419"
            ]
           ],
           "sequential": [
            [
             0,
             "#0d0887"
            ],
            [
             0.1111111111111111,
             "#46039f"
            ],
            [
             0.2222222222222222,
             "#7201a8"
            ],
            [
             0.3333333333333333,
             "#9c179e"
            ],
            [
             0.4444444444444444,
             "#bd3786"
            ],
            [
             0.5555555555555556,
             "#d8576b"
            ],
            [
             0.6666666666666666,
             "#ed7953"
            ],
            [
             0.7777777777777778,
             "#fb9f3a"
            ],
            [
             0.8888888888888888,
             "#fdca26"
            ],
            [
             1,
             "#f0f921"
            ]
           ],
           "sequentialminus": [
            [
             0,
             "#0d0887"
            ],
            [
             0.1111111111111111,
             "#46039f"
            ],
            [
             0.2222222222222222,
             "#7201a8"
            ],
            [
             0.3333333333333333,
             "#9c179e"
            ],
            [
             0.4444444444444444,
             "#bd3786"
            ],
            [
             0.5555555555555556,
             "#d8576b"
            ],
            [
             0.6666666666666666,
             "#ed7953"
            ],
            [
             0.7777777777777778,
             "#fb9f3a"
            ],
            [
             0.8888888888888888,
             "#fdca26"
            ],
            [
             1,
             "#f0f921"
            ]
           ]
          },
          "colorway": [
           "#636efa",
           "#EF553B",
           "#00cc96",
           "#ab63fa",
           "#FFA15A",
           "#19d3f3",
           "#FF6692",
           "#B6E880",
           "#FF97FF",
           "#FECB52"
          ],
          "font": {
           "color": "#2a3f5f"
          },
          "geo": {
           "bgcolor": "white",
           "lakecolor": "white",
           "landcolor": "#E5ECF6",
           "showlakes": true,
           "showland": true,
           "subunitcolor": "white"
          },
          "hoverlabel": {
           "align": "left"
          },
          "hovermode": "closest",
          "mapbox": {
           "style": "light"
          },
          "paper_bgcolor": "white",
          "plot_bgcolor": "#E5ECF6",
          "polar": {
           "angularaxis": {
            "gridcolor": "white",
            "linecolor": "white",
            "ticks": ""
           },
           "bgcolor": "#E5ECF6",
           "radialaxis": {
            "gridcolor": "white",
            "linecolor": "white",
            "ticks": ""
           }
          },
          "scene": {
           "xaxis": {
            "backgroundcolor": "#E5ECF6",
            "gridcolor": "white",
            "gridwidth": 2,
            "linecolor": "white",
            "showbackground": true,
            "ticks": "",
            "zerolinecolor": "white"
           },
           "yaxis": {
            "backgroundcolor": "#E5ECF6",
            "gridcolor": "white",
            "gridwidth": 2,
            "linecolor": "white",
            "showbackground": true,
            "ticks": "",
            "zerolinecolor": "white"
           },
           "zaxis": {
            "backgroundcolor": "#E5ECF6",
            "gridcolor": "white",
            "gridwidth": 2,
            "linecolor": "white",
            "showbackground": true,
            "ticks": "",
            "zerolinecolor": "white"
           }
          },
          "shapedefaults": {
           "line": {
            "color": "#2a3f5f"
           }
          },
          "ternary": {
           "aaxis": {
            "gridcolor": "white",
            "linecolor": "white",
            "ticks": ""
           },
           "baxis": {
            "gridcolor": "white",
            "linecolor": "white",
            "ticks": ""
           },
           "bgcolor": "#E5ECF6",
           "caxis": {
            "gridcolor": "white",
            "linecolor": "white",
            "ticks": ""
           }
          },
          "title": {
           "x": 0.05
          },
          "xaxis": {
           "automargin": true,
           "gridcolor": "white",
           "linecolor": "white",
           "ticks": "",
           "title": {
            "standoff": 15
           },
           "zerolinecolor": "white",
           "zerolinewidth": 2
          },
          "yaxis": {
           "automargin": true,
           "gridcolor": "white",
           "linecolor": "white",
           "ticks": "",
           "title": {
            "standoff": 15
           },
           "zerolinecolor": "white",
           "zerolinewidth": 2
          }
         }
        },
        "title": {
         "text": "Evolución de BAJA+1 por mes (excluyendo 202107 y 202108)"
        },
        "xaxis": {
         "anchor": "y",
         "domain": [
          0,
          1
         ],
         "title": {
          "text": "Mes"
         }
        },
        "yaxis": {
         "anchor": "x",
         "domain": [
          0,
          1
         ],
         "title": {
          "text": "Cantidad de BAJA+1"
         }
        }
       }
      },
      "image/png": "[encoded data removed]"
     },
     "metadata": {},
     "output_type": "display_data"
    }
   ],
   "source": [
    "import plotly.express as px\n",
    "\n",
    "# Asegurarnos de que foto_mes sea entero\n",
    "df['foto_mes'] = df['foto_mes'].astype(int)\n",
    "\n",
    "# Filtrar solo BAJA+1 y excluir 202107 y 202108\n",
    "baja1 = (\n",
    "    df[\n",
    "        (df['clase_ternaria'] == 'BAJA+1') &\n",
    "        (~df['foto_mes'].isin([202107, 202108]))\n",
    "    ]\n",
    "    .groupby('foto_mes')\n",
    "    .size()\n",
    "    .reset_index(name='cantidad')\n",
    "    .sort_values('foto_mes')\n",
    ")\n",
    "\n",
    "# Graficar con Plotly\n",
    "fig = px.line(\n",
    "    baja1,\n",
    "    x='foto_mes',\n",
    "    y='cantidad',\n",
    "    markers=True,\n",
    "    title='Evolución de BAJA+1 por mes (excluyendo 202107 y 202108)',\n",
    "    labels={'foto_mes': 'Mes', 'cantidad': 'Cantidad de BAJA+1'}\n",
    ")\n",
    "\n",
    "# Mostrar el gráfico interactivo\n",
    "fig.show()\n"
   ]
  },
  {
   "cell_type": "code",
   "execution_count": 13,
   "id": "94a2d62d-282c-4b00-bcfd-7be21b8c2649",
   "metadata": {},
   "outputs": [
    {
     "name": "stdout",
     "output_type": "stream",
     "text": [
      "✅ Archivo 'baja1_por_mes.csv' exportado correctamente.\n",
      "   foto_mes  cantidad\n",
      "0    201901       635\n",
      "1    201902       723\n",
      "2    201903       694\n",
      "3    201904       743\n",
      "4    201905       505\n"
     ]
    }
   ],
   "source": [
    "import pandas as pd\n",
    "\n",
    "# Asegurarnos de que foto_mes sea entero\n",
    "df['foto_mes'] = df['foto_mes'].astype(int)\n",
    "\n",
    "# Filtrar solo BAJA+1 y excluir 202107 y 202108\n",
    "baja1 = (\n",
    "    df[\n",
    "        (df['clase_ternaria'] == 'BAJA+1') &\n",
    "        (~df['foto_mes'].isin([202107, 202108]))\n",
    "    ]\n",
    "    .groupby('foto_mes')\n",
    "    .size()\n",
    "    .reset_index(name='cantidad')\n",
    "    .sort_values('foto_mes')\n",
    ")\n",
    "\n",
    "# Exportar a CSV\n",
    "baja1.to_csv('baja1_por_mes.csv', index=False)\n",
    "\n",
    "print(\"✅ Archivo 'baja1_por_mes.csv' exportado correctamente.\")\n",
    "print(baja1.head())\n"
   ]
  },
  {
   "cell_type": "code",
   "execution_count": 15,
   "id": "d248150c-6166-4708-9f4b-fafb831740dc",
   "metadata": {},
   "outputs": [
    {
     "name": "stdout",
     "output_type": "stream",
     "text": [
      "✅ Archivo 'bajas_por_mes.csv' exportado correctamente.\n",
      "clase_ternaria  foto_mes  BAJA+1  BAJA+2\n",
      "0                 201901     635     720\n",
      "1                 201902     723     693\n",
      "2                 201903     694     738\n",
      "3                 201904     743     502\n",
      "4                 201905     505     681\n"
     ]
    }
   ],
   "source": [
    "import pandas as pd\n",
    "\n",
    "# Asegurarnos de que foto_mes sea entero\n",
    "df['foto_mes'] = df['foto_mes'].astype(int)\n",
    "\n",
    "# Filtrar los meses válidos (excluyendo 202107 y 202108)\n",
    "df_filtrado = df[~df['foto_mes'].isin([202107, 202108])]\n",
    "\n",
    "# Contar BAJA+1 y BAJA+2 por mes\n",
    "bajas = (\n",
    "    df_filtrado[df_filtrado['clase_ternaria'].isin(['BAJA+1', 'BAJA+2'])]\n",
    "    .groupby(['foto_mes', 'clase_ternaria'])\n",
    "    .size()\n",
    "    .unstack(fill_value=0)\n",
    "    .reset_index()\n",
    "    .sort_values('foto_mes')\n",
    ")\n",
    "\n",
    "# Exportar a CSV\n",
    "bajas.to_csv('bajas_por_mes.csv', index=False)\n",
    "\n",
    "print(\"✅ Archivo 'bajas_por_mes.csv' exportado correctamente.\")\n",
    "print(bajas.head())\n"
   ]
  },
  {
   "cell_type": "code",
   "execution_count": null,
   "id": "4466ca95-178a-4b90-b057-1a341418a5e7",
   "metadata": {},
   "outputs": [],
   "source": []
  },
  {
   "cell_type": "code",
   "execution_count": null,
   "id": "e11b94f3-b5d1-48f9-9b7d-ef3f8ccf0676",
   "metadata": {},
   "outputs": [],
   "source": []
  }
 ],
 "metadata": {
  "kernelspec": {
   "display_name": "Python 3 (ipykernel)",
   "language": "python",
   "name": "python3"
  },
  "language_info": {
   "codemirror_mode": {
    "name": "ipython",
    "version": 3
   },
   "file_extension": ".py",
   "mimetype": "text/x-python",
   "name": "python",
   "nbconvert_exporter": "python",
   "pygments_lexer": "ipython3",
   "version": "3.13.7"
  }
 },
 "nbformat": 4,
 "nbformat_minor": 5
}
