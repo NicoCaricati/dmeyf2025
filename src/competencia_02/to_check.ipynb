{
 "cells": [
  {
   "cell_type": "code",
   "execution_count": 2,
   "id": "863b6d95",
   "metadata": {},
   "outputs": [
    {
     "name": "stdout",
     "output_type": "stream",
     "text": [
      "Número del mejor trial: 4\n",
      "Valor objetivo: 2147474611.2\n",
      "Parámetros:\n",
      "  num_leaves: 23\n",
      "  min_data_in_leaf: 223\n",
      "  feature_fraction: 0.6616669584635271\n",
      "  bagging_fraction: 0.23994377622330532\n",
      "  num_boost_round: 439\n",
      "  lr_init: 0.14053552566659705\n",
      "  lr_decay: 0.9124750514032693\n",
      "\n",
      "Diccionario con los mejores hiperparámetros:\n",
      "{'num_leaves': 23, 'min_data_in_leaf': 223, 'feature_fraction': 0.6616669584635271, 'bagging_fraction': 0.23994377622330532, 'num_boost_round': 439, 'lr_init': 0.14053552566659705, 'lr_decay': 0.9124750514032693}\n"
     ]
    }
   ],
   "source": [
    "import optuna\n",
    "import os\n",
    "\n",
    "# Ruta a tu base de datos Optuna (ajustá si es necesario)\n",
    "db_path = \"../../../buckets/b1/Compe_02/optuna_db/TEST 1 - Modelo Final  - Pruebo Learning Rate con funcionamiento variable.db\"\n",
    "\n",
    "# Verificar que el archivo exista\n",
    "if not os.path.exists(db_path):\n",
    "    raise FileNotFoundError(f\"No se encontró el archivo: {db_path}\")\n",
    "\n",
    "# Crear el storage URL (formato SQLite)\n",
    "storage_url = f\"sqlite:///{db_path}\"\n",
    "\n",
    "# Cargar el estudio\n",
    "study_name = \"TEST 1 - Modelo Final  - Pruebo Learning Rate con funcionamiento variable\"  # debe coincidir exactamente\n",
    "study = optuna.load_study(study_name=study_name, storage=storage_url)\n",
    "\n",
    "# Obtener el mejor trial\n",
    "best_trial = study.best_trial\n",
    "\n",
    "# Mostrar resultados\n",
    "print(\"Número del mejor trial:\", best_trial.number)\n",
    "print(\"Valor objetivo:\", best_trial.value)\n",
    "print(\"Parámetros:\")\n",
    "for k, v in best_trial.params.items():\n",
    "    print(f\"  {k}: {v}\")\n",
    "\n",
    "# Si querés guardarlo como diccionario\n",
    "mejores_params = dict(best_trial.params)\n",
    "print(\"\\nDiccionario con los mejores hiperparámetros:\")\n",
    "print(mejores_params)\n"
   ]
  },
  {
   "cell_type": "code",
   "execution_count": null,
   "id": "b03f4662-a9b8-4781-84d0-adb4b7c71e4a",
   "metadata": {},
   "outputs": [],
   "source": []
  }
 ],
 "metadata": {
  "kernelspec": {
   "display_name": "Python 3 (ipykernel)",
   "language": "python",
   "name": "python3"
  },
  "language_info": {
   "codemirror_mode": {
    "name": "ipython",
    "version": 3
   },
   "file_extension": ".py",
   "mimetype": "text/x-python",
   "name": "python",
   "nbconvert_exporter": "python",
   "pygments_lexer": "ipython3",
   "version": "3.13.7"
  }
 },
 "nbformat": 4,
 "nbformat_minor": 5
}
